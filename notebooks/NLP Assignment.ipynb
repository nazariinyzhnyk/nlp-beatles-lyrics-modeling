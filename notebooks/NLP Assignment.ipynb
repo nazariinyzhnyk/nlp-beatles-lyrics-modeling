{
 "cells": [
  {
   "cell_type": "markdown",
   "metadata": {},
   "source": [
    "# NLP Home Assigment"
   ]
  },
  {
   "cell_type": "markdown",
   "metadata": {},
   "source": [
    "In this assignment you'll be working with The Beatles lyrics. It can be found on github: https://github.com/tylerlewiscook/beatles-lyrics/tree/master/lyrics\n",
    "\n",
    "We provided a code to download it from the github repository and load into a pandas dataframe."
   ]
  },
  {
   "cell_type": "markdown",
   "metadata": {},
   "source": [
    "## Assigments\n",
    "### Document search and ranking\n",
    "Find 3 most relevant songs for all three terms 'all' 'is' 'love' simultaneously. How do you define relevance?\n",
    "### Topic modeling (unsupervised learning)\n",
    "Please cluster all The Beatles songs into three clusters, what can you say about this clusters? Can you visualize them?\n",
    "### NLP tasks\n",
    "What other supervised and unsupervised algorithms can be applied to this dataset? "
   ]
  },
  {
   "cell_type": "markdown",
   "metadata": {},
   "source": [
    "## Support"
   ]
  },
  {
   "cell_type": "code",
   "execution_count": 1,
   "metadata": {},
   "outputs": [],
   "source": [
    "import pandas as pd\n",
    "import numpy as np\n",
    "import os"
   ]
  },
  {
   "cell_type": "markdown",
   "metadata": {},
   "source": [
    "### Load corpus"
   ]
  },
  {
   "cell_type": "code",
   "execution_count": 2,
   "metadata": {},
   "outputs": [],
   "source": [
    "def read_corpus(root_path):\n",
    "    \"Read corpus of songs into a pandas DataFrame, each line corresponds to a row\"\n",
    "    songs = pd.DataFrame()\n",
    "    for album in os.walk('{}/lyrics/'.format(root_path)):\n",
    "        if album[0] == '{}/lyrics/'.format(root_path):\n",
    "            continue\n",
    "        for song in album[2]:\n",
    "            lines = pd.read_table('{}/{}'.format(album[0], song), \n",
    "                                  header = None, \n",
    "                                  quotechar = None,\n",
    "                                  quoting = 3,\n",
    "                                  names = ['Line'])\n",
    "            lines['Album'] = album[0].split('/')[-1]\n",
    "            lines['Song'] = song\n",
    "            lines['LineNum'] = range(1, len(lines) + 1)\n",
    "            songs = pd.concat([songs, lines])\n",
    "    return songs"
   ]
  },
  {
   "cell_type": "markdown",
   "metadata": {},
   "source": [
    "## Solutions"
   ]
  },
  {
   "cell_type": "markdown",
   "metadata": {},
   "source": [
    "### Read corpus\n",
    "Reads all Beatles songs from Github into pandas dataframe"
   ]
  },
  {
   "cell_type": "code",
   "execution_count": 3,
   "metadata": {},
   "outputs": [
    {
     "name": "stdout",
     "output_type": "stream",
     "text": [
      "Collecting pygit2\n",
      "\u001b[?25l  Downloading https://files.pythonhosted.org/packages/f6/4d/353177e55dca0e58b7341c9d3a1c4f753346115f0e113e2ca3a1c6d580ae/pygit2-1.3.0-cp37-cp37m-macosx_10_9_x86_64.whl (813kB)\n",
      "\u001b[K     |████████████████████████████████| 819kB 725kB/s eta 0:00:01\n",
      "\u001b[?25hCollecting cached-property (from pygit2)\n",
      "  Downloading https://files.pythonhosted.org/packages/48/19/f2090f7dad41e225c7f2326e4cfe6fff49e57dedb5b53636c9551f86b069/cached_property-1.5.2-py2.py3-none-any.whl\n",
      "Requirement already satisfied: cffi>=1.4.0 in /Users/nazariinyzhnyk/anaconda3/lib/python3.7/site-packages (from pygit2) (1.12.3)\n",
      "Requirement already satisfied: pycparser in /Users/nazariinyzhnyk/anaconda3/lib/python3.7/site-packages (from cffi>=1.4.0->pygit2) (2.19)\n",
      "Installing collected packages: cached-property, pygit2\n",
      "Successfully installed cached-property-1.5.2 pygit2-1.3.0\n"
     ]
    }
   ],
   "source": [
    "!pip install pygit2"
   ]
  },
  {
   "cell_type": "code",
   "execution_count": 4,
   "metadata": {},
   "outputs": [
    {
     "data": {
      "text/plain": [
       "pygit2.Repository('/Users/nazariinyzhnyk/projects/nlp-beatles-lyrics-modeling/notebooks/beatles-lyrics/.git/')"
      ]
     },
     "execution_count": 4,
     "metadata": {},
     "output_type": "execute_result"
    }
   ],
   "source": [
    "# Clone repositoty\n",
    "import pygit2\n",
    "pygit2.clone_repository(\"https://github.com/tylerlewiscook/beatles-lyrics.git\", './beatles-lyrics')"
   ]
  },
  {
   "cell_type": "code",
   "execution_count": 5,
   "metadata": {},
   "outputs": [],
   "source": [
    "corpus = read_corpus('./beatles-lyrics')"
   ]
  },
  {
   "cell_type": "code",
   "execution_count": 6,
   "metadata": {},
   "outputs": [
    {
     "data": {
      "text/html": [
       "<div>\n",
       "<style scoped>\n",
       "    .dataframe tbody tr th:only-of-type {\n",
       "        vertical-align: middle;\n",
       "    }\n",
       "\n",
       "    .dataframe tbody tr th {\n",
       "        vertical-align: top;\n",
       "    }\n",
       "\n",
       "    .dataframe thead th {\n",
       "        text-align: right;\n",
       "    }\n",
       "</style>\n",
       "<table border=\"1\" class=\"dataframe\">\n",
       "  <thead>\n",
       "    <tr style=\"text-align: right;\">\n",
       "      <th></th>\n",
       "      <th>Line</th>\n",
       "      <th>Album</th>\n",
       "      <th>Song</th>\n",
       "      <th>LineNum</th>\n",
       "    </tr>\n",
       "  </thead>\n",
       "  <tbody>\n",
       "    <tr>\n",
       "      <td>12</td>\n",
       "      <td>Yesterday</td>\n",
       "      <td>Help</td>\n",
       "      <td>Yesterday.txt</td>\n",
       "      <td>13</td>\n",
       "    </tr>\n",
       "    <tr>\n",
       "      <td>3</td>\n",
       "      <td>All you gotta do is call</td>\n",
       "      <td>AHardDaysNight</td>\n",
       "      <td>Any_Time_At_All.txt</td>\n",
       "      <td>4</td>\n",
       "    </tr>\n",
       "    <tr>\n",
       "      <td>54</td>\n",
       "      <td>Everybody let their hair down</td>\n",
       "      <td>LetItBe</td>\n",
       "      <td>Ive_Got_A_Feeling.txt</td>\n",
       "      <td>55</td>\n",
       "    </tr>\n",
       "    <tr>\n",
       "      <td>13</td>\n",
       "      <td>Deep in the jungle, where the mighty tiger lies</td>\n",
       "      <td>TheBeatles</td>\n",
       "      <td>The_Continuing_Story_Of_Bulgalow_Bill.txt</td>\n",
       "      <td>14</td>\n",
       "    </tr>\n",
       "    <tr>\n",
       "      <td>20</td>\n",
       "      <td>A pretty nurse is selling poppies from a tray</td>\n",
       "      <td>MagicalMysteryTour</td>\n",
       "      <td>Penny_Lane.txt</td>\n",
       "      <td>21</td>\n",
       "    </tr>\n",
       "  </tbody>\n",
       "</table>\n",
       "</div>"
      ],
      "text/plain": [
       "                                               Line               Album  \\\n",
       "12                                        Yesterday                Help   \n",
       "3                          All you gotta do is call      AHardDaysNight   \n",
       "54                    Everybody let their hair down             LetItBe   \n",
       "13  Deep in the jungle, where the mighty tiger lies          TheBeatles   \n",
       "20    A pretty nurse is selling poppies from a tray  MagicalMysteryTour   \n",
       "\n",
       "                                         Song  LineNum  \n",
       "12                              Yesterday.txt       13  \n",
       "3                         Any_Time_At_All.txt        4  \n",
       "54                      Ive_Got_A_Feeling.txt       55  \n",
       "13  The_Continuing_Story_Of_Bulgalow_Bill.txt       14  \n",
       "20                             Penny_Lane.txt       21  "
      ]
     },
     "execution_count": 6,
     "metadata": {},
     "output_type": "execute_result"
    }
   ],
   "source": [
    "corpus.sample(5)"
   ]
  },
  {
   "cell_type": "code",
   "execution_count": 7,
   "metadata": {},
   "outputs": [
    {
     "data": {
      "text/html": [
       "<div>\n",
       "<style scoped>\n",
       "    .dataframe tbody tr th:only-of-type {\n",
       "        vertical-align: middle;\n",
       "    }\n",
       "\n",
       "    .dataframe tbody tr th {\n",
       "        vertical-align: top;\n",
       "    }\n",
       "\n",
       "    .dataframe thead th {\n",
       "        text-align: right;\n",
       "    }\n",
       "</style>\n",
       "<table border=\"1\" class=\"dataframe\">\n",
       "  <thead>\n",
       "    <tr style=\"text-align: right;\">\n",
       "      <th></th>\n",
       "      <th>Line</th>\n",
       "      <th>Album</th>\n",
       "      <th>Song</th>\n",
       "      <th>LineNum</th>\n",
       "    </tr>\n",
       "  </thead>\n",
       "  <tbody>\n",
       "    <tr>\n",
       "      <td>0</td>\n",
       "      <td>You know, if you break my heart I'll go</td>\n",
       "      <td>AHardDaysNight</td>\n",
       "      <td>Ill_Be_Back.txt</td>\n",
       "      <td>1</td>\n",
       "    </tr>\n",
       "    <tr>\n",
       "      <td>1</td>\n",
       "      <td>But I'll be back again</td>\n",
       "      <td>AHardDaysNight</td>\n",
       "      <td>Ill_Be_Back.txt</td>\n",
       "      <td>2</td>\n",
       "    </tr>\n",
       "    <tr>\n",
       "      <td>2</td>\n",
       "      <td>'Cause I told you once before goodbye</td>\n",
       "      <td>AHardDaysNight</td>\n",
       "      <td>Ill_Be_Back.txt</td>\n",
       "      <td>3</td>\n",
       "    </tr>\n",
       "    <tr>\n",
       "      <td>3</td>\n",
       "      <td>But I came back again</td>\n",
       "      <td>AHardDaysNight</td>\n",
       "      <td>Ill_Be_Back.txt</td>\n",
       "      <td>4</td>\n",
       "    </tr>\n",
       "    <tr>\n",
       "      <td>4</td>\n",
       "      <td>I love you so</td>\n",
       "      <td>AHardDaysNight</td>\n",
       "      <td>Ill_Be_Back.txt</td>\n",
       "      <td>5</td>\n",
       "    </tr>\n",
       "    <tr>\n",
       "      <td>...</td>\n",
       "      <td>...</td>\n",
       "      <td>...</td>\n",
       "      <td>...</td>\n",
       "      <td>...</td>\n",
       "    </tr>\n",
       "    <tr>\n",
       "      <td>16</td>\n",
       "      <td>Why should I feel the way I do?</td>\n",
       "      <td>Help</td>\n",
       "      <td>Its_Only_Love.txt</td>\n",
       "      <td>17</td>\n",
       "    </tr>\n",
       "    <tr>\n",
       "      <td>17</td>\n",
       "      <td>It's only love and that is all</td>\n",
       "      <td>Help</td>\n",
       "      <td>Its_Only_Love.txt</td>\n",
       "      <td>18</td>\n",
       "    </tr>\n",
       "    <tr>\n",
       "      <td>18</td>\n",
       "      <td>But it's so hard loving you</td>\n",
       "      <td>Help</td>\n",
       "      <td>Its_Only_Love.txt</td>\n",
       "      <td>19</td>\n",
       "    </tr>\n",
       "    <tr>\n",
       "      <td>19</td>\n",
       "      <td>Yes, it's so hard loving you</td>\n",
       "      <td>Help</td>\n",
       "      <td>Its_Only_Love.txt</td>\n",
       "      <td>20</td>\n",
       "    </tr>\n",
       "    <tr>\n",
       "      <td>20</td>\n",
       "      <td>Loving you</td>\n",
       "      <td>Help</td>\n",
       "      <td>Its_Only_Love.txt</td>\n",
       "      <td>21</td>\n",
       "    </tr>\n",
       "  </tbody>\n",
       "</table>\n",
       "<p>6354 rows × 4 columns</p>\n",
       "</div>"
      ],
      "text/plain": [
       "                                       Line           Album  \\\n",
       "0   You know, if you break my heart I'll go  AHardDaysNight   \n",
       "1                    But I'll be back again  AHardDaysNight   \n",
       "2     'Cause I told you once before goodbye  AHardDaysNight   \n",
       "3                     But I came back again  AHardDaysNight   \n",
       "4                             I love you so  AHardDaysNight   \n",
       "..                                      ...             ...   \n",
       "16          Why should I feel the way I do?            Help   \n",
       "17           It's only love and that is all            Help   \n",
       "18              But it's so hard loving you            Help   \n",
       "19             Yes, it's so hard loving you            Help   \n",
       "20                               Loving you            Help   \n",
       "\n",
       "                 Song  LineNum  \n",
       "0     Ill_Be_Back.txt        1  \n",
       "1     Ill_Be_Back.txt        2  \n",
       "2     Ill_Be_Back.txt        3  \n",
       "3     Ill_Be_Back.txt        4  \n",
       "4     Ill_Be_Back.txt        5  \n",
       "..                ...      ...  \n",
       "16  Its_Only_Love.txt       17  \n",
       "17  Its_Only_Love.txt       18  \n",
       "18  Its_Only_Love.txt       19  \n",
       "19  Its_Only_Love.txt       20  \n",
       "20  Its_Only_Love.txt       21  \n",
       "\n",
       "[6354 rows x 4 columns]"
      ]
     },
     "execution_count": 7,
     "metadata": {},
     "output_type": "execute_result"
    }
   ],
   "source": [
    "corpus"
   ]
  },
  {
   "cell_type": "code",
   "execution_count": null,
   "metadata": {},
   "outputs": [],
   "source": []
  }
 ],
 "metadata": {
  "kernelspec": {
   "display_name": "Python 3",
   "language": "python",
   "name": "python3"
  },
  "language_info": {
   "codemirror_mode": {
    "name": "ipython",
    "version": 3
   },
   "file_extension": ".py",
   "mimetype": "text/x-python",
   "name": "python",
   "nbconvert_exporter": "python",
   "pygments_lexer": "ipython3",
   "version": "3.7.4"
  }
 },
 "nbformat": 4,
 "nbformat_minor": 4
}
